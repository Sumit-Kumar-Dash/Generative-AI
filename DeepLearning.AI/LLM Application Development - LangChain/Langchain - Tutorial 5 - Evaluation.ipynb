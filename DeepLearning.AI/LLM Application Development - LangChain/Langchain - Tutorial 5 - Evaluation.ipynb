{
 "cells": [
  {
   "cell_type": "markdown",
   "id": "6981cc33",
   "metadata": {},
   "source": [
    "# LangChain: Evaluation\n",
    "\n",
    "## Outline:\n",
    "\n",
    "* Example generation\n",
    "* Manual evaluation (and debuging)\n",
    "* LLM-assisted evaluation"
   ]
  },
  {
   "cell_type": "code",
   "execution_count": 1,
   "id": "4a716edc",
   "metadata": {},
   "outputs": [],
   "source": [
    "import os\n",
    "\n",
    "from dotenv import load_dotenv, find_dotenv\n",
    "_ = load_dotenv(find_dotenv()) # read local .env file"
   ]
  },
  {
   "cell_type": "markdown",
   "id": "41b15cd7",
   "metadata": {},
   "source": [
    "## Create our QandA application"
   ]
  },
  {
   "cell_type": "code",
   "execution_count": 3,
   "id": "2645e421",
   "metadata": {},
   "outputs": [],
   "source": [
    "from langchain.chains import RetrievalQA\n",
    "from langchain.chat_models import ChatOpenAI\n",
    "from langchain.document_loaders import CSVLoader , PyMuPDFLoader\n",
    "from langchain.indexes import VectorstoreIndexCreator\n",
    "from langchain.vectorstores import DocArrayInMemorySearch"
   ]
  },
  {
   "cell_type": "code",
   "execution_count": 10,
   "id": "ad1fdd87",
   "metadata": {},
   "outputs": [],
   "source": [
    "path = 'input/Wartsilla/SWR-000349841_Check of engine automation system alarms_External.pdf'\n",
    "\n",
    "loader = PyMuPDFLoader(path)\n",
    "data = loader.load()\n",
    "pages = loader.load_and_split()"
   ]
  },
  {
   "cell_type": "code",
   "execution_count": 5,
   "id": "7b752e8d",
   "metadata": {},
   "outputs": [],
   "source": [
    "index = VectorstoreIndexCreator(\n",
    "    vectorstore_cls=DocArrayInMemorySearch\n",
    ").from_loaders([loader])"
   ]
  },
  {
   "cell_type": "code",
   "execution_count": 6,
   "id": "4eb9330e",
   "metadata": {},
   "outputs": [],
   "source": [
    "llm = ChatOpenAI(temperature = 0.0)\n",
    "qa = RetrievalQA.from_chain_type(\n",
    "    llm=llm, \n",
    "    chain_type=\"stuff\", \n",
    "    retriever=index.vectorstore.as_retriever(), \n",
    "    verbose=True,\n",
    "    chain_type_kwargs = {\n",
    "        \"document_separator\": \"<<<<>>>>>\"\n",
    "    }\n",
    ")"
   ]
  },
  {
   "cell_type": "code",
   "execution_count": 13,
   "id": "9e655f06",
   "metadata": {},
   "outputs": [
    {
     "data": {
      "text/plain": [
       "Document(page_content='© Wärtsilä 2022\\nTable of contents\\nDisclaimer\\n3\\nOrder\\n3\\nScope of work\\n4\\nSpare parts\\n4\\nEngine details and running hours\\n4\\n1 Background\\n5\\n2 Description of work\\n5\\n3 Recommendations\\n8\\n4 Site safety\\n8\\n5 Calibrated measuring devices utilized\\n8\\n6 Conclusions\\n8\\nAttachments\\n8\\nOffline copy downloaded from Wärtsilä Technical Knowledge Base 27 Apr 2023 by jacob.abonde_external@wartsila.com , \\n', metadata={'source': 'input/Wartsilla/SWR-000349841_Check of engine automation system alarms_External.pdf', 'file_path': 'input/Wartsilla/SWR-000349841_Check of engine automation system alarms_External.pdf', 'page': 1, 'total_pages': 8, 'format': 'PDF 1.7', 'title': '', 'author': '', 'subject': '', 'keywords': '', 'creator': 'Telerik RadRichTextBox', 'producer': 'pdf-lib (https://github.com/Hopding/pdf-lib)', 'creationDate': \"D:20220815080008+02'00'\", 'modDate': 'D:20230427113753Z', 'trapped': ''})"
      ]
     },
     "execution_count": 13,
     "metadata": {},
     "output_type": "execute_result"
    }
   ],
   "source": [
    "data[1]"
   ]
  },
  {
   "cell_type": "markdown",
   "id": "f769c067",
   "metadata": {},
   "source": [
    "### LLM-Generated examples\n",
    "\n",
    "Generating Q/A pairs using LLM"
   ]
  },
  {
   "cell_type": "code",
   "execution_count": 7,
   "id": "84338e73",
   "metadata": {},
   "outputs": [],
   "source": [
    "from langchain.evaluation.qa import QAGenerateChain"
   ]
  },
  {
   "cell_type": "code",
   "execution_count": 8,
   "id": "e7d9dc40",
   "metadata": {},
   "outputs": [],
   "source": [
    "example_gen_chain = QAGenerateChain.from_llm(ChatOpenAI())"
   ]
  },
  {
   "cell_type": "code",
   "execution_count": 14,
   "id": "25592c8a",
   "metadata": {},
   "outputs": [
    {
     "name": "stderr",
     "output_type": "stream",
     "text": [
      "Retrying langchain.chat_models.openai.ChatOpenAI.completion_with_retry.<locals>._completion_with_retry in 1.0 seconds as it raised APIConnectionError: Error communicating with OpenAI: ('Connection aborted.', RemoteDisconnected('Remote end closed connection without response')).\n"
     ]
    }
   ],
   "source": [
    "new_examples = example_gen_chain.apply_and_parse(\n",
    "    [{\"doc\": t} for t in data[:5]] )"
   ]
  },
  {
   "cell_type": "code",
   "execution_count": 15,
   "id": "9e60c4f1",
   "metadata": {},
   "outputs": [],
   "source": [
    "examples =[]\n",
    "examples+=new_examples"
   ]
  },
  {
   "cell_type": "code",
   "execution_count": 16,
   "id": "d6e411da",
   "metadata": {
    "collapsed": true
   },
   "outputs": [
    {
     "data": {
      "text/plain": [
       "[{'query': 'Who performed and reported the Check of engine automation system alarms on the TROLLFJORD?',\n",
       "  'answer': 'Jari Tegelberg performed and reported the Check of engine automation system alarms on the TROLLFJORD.'},\n",
       " {'query': 'What is the date and time when the offline copy of the document was downloaded from Wärtsilä Technical Knowledge Base?',\n",
       "  'answer': 'The offline copy of the document was downloaded from Wärtsilä Technical Knowledge Base on April 27, 2023, at 11:37:53 UTC.'},\n",
       " {'query': 'What is the purpose of the disclaimer included in the Service Work Report document?',\n",
       "  'answer': \"The disclaimer included in the Service Work Report document states that no part of the publication may be reproduced or copied without prior written permission of the copyright holder, and that Wärtsilä assumes no responsibility for the correctness, errors, or omissions of information contained in the publication. It also states that any actions taken by the owner/operator as a result of the recommendation are not covered under any warranty provided by Wärtsilä and will thus be at the owner's/operator's own cost and expense. The disclaimer is intended to limit liability and clarify the terms of use for the publication.\"},\n",
       " {'query': 'What was the scope of work for the service work report?',\n",
       "  'answer': 'The scope of work for the service work report was to perform a check of alarms, specifically the OMD-unit local alarms and UNIC alarms.'},\n",
       " {'query': 'What alarms were active when the engine was started and checked for ME2?',\n",
       "  'answer': 'The following alarms were active when the engine was started and checked for ME2: Fuel pump control on indication for external fuel pump, remote control indication, and cylinder liner SF alarms. ME2 SF alarm for following units; cylA8 and cyl A6, liner temp 2. In addition, cyl A3, liner temp 1 for ME1.'}]"
      ]
     },
     "execution_count": 16,
     "metadata": {},
     "output_type": "execute_result"
    }
   ],
   "source": [
    "examples"
   ]
  },
  {
   "cell_type": "code",
   "execution_count": null,
   "id": "fedd6950",
   "metadata": {},
   "outputs": [
    {
     "name": "stdout",
     "output_type": "stream",
     "text": [
      "\n",
      "\n",
      "\u001b[1m> Entering new RetrievalQA chain...\u001b[0m\n"
     ]
    }
   ],
   "source": [
    "qa.run(examples[0][\"query\"])"
   ]
  },
  {
   "cell_type": "markdown",
   "id": "91efc964",
   "metadata": {},
   "source": [
    "## Manual Evaluation"
   ]
  },
  {
   "cell_type": "code",
   "execution_count": 1,
   "id": "9e03cc9e",
   "metadata": {},
   "outputs": [],
   "source": [
    "import langchain\n",
    "langchain.debug = True"
   ]
  },
  {
   "cell_type": "code",
   "execution_count": 2,
   "id": "cd526178",
   "metadata": {},
   "outputs": [
    {
     "ename": "NameError",
     "evalue": "name 'qa' is not defined",
     "output_type": "error",
     "traceback": [
      "\u001b[1;31m---------------------------------------------------------------------------\u001b[0m",
      "\u001b[1;31mNameError\u001b[0m                                 Traceback (most recent call last)",
      "Cell \u001b[1;32mIn[2], line 1\u001b[0m\n\u001b[1;32m----> 1\u001b[0m \u001b[43mqa\u001b[49m\u001b[38;5;241m.\u001b[39mrun(examples[\u001b[38;5;241m0\u001b[39m][\u001b[38;5;124m\"\u001b[39m\u001b[38;5;124mquery\u001b[39m\u001b[38;5;124m\"\u001b[39m])\n",
      "\u001b[1;31mNameError\u001b[0m: name 'qa' is not defined"
     ]
    }
   ],
   "source": [
    "qa.run(examples[0][\"query\"])"
   ]
  },
  {
   "cell_type": "code",
   "execution_count": 3,
   "id": "625bb61e",
   "metadata": {},
   "outputs": [],
   "source": [
    "# Turn off the debug mode\n",
    "langchain.debug = False"
   ]
  },
  {
   "cell_type": "markdown",
   "id": "f07a1a3b",
   "metadata": {},
   "source": [
    "## LLM assisted evaluation"
   ]
  },
  {
   "cell_type": "code",
   "execution_count": 4,
   "id": "d9613133",
   "metadata": {
    "collapsed": true
   },
   "outputs": [
    {
     "ename": "NameError",
     "evalue": "name 'qa' is not defined",
     "output_type": "error",
     "traceback": [
      "\u001b[1;31m---------------------------------------------------------------------------\u001b[0m",
      "\u001b[1;31mNameError\u001b[0m                                 Traceback (most recent call last)",
      "Cell \u001b[1;32mIn[4], line 1\u001b[0m\n\u001b[1;32m----> 1\u001b[0m predictions \u001b[38;5;241m=\u001b[39m \u001b[43mqa\u001b[49m\u001b[38;5;241m.\u001b[39mapply(examples)\n",
      "\u001b[1;31mNameError\u001b[0m: name 'qa' is not defined"
     ]
    }
   ],
   "source": [
    "predictions = qa.apply(examples)"
   ]
  },
  {
   "cell_type": "code",
   "execution_count": 5,
   "id": "e3725d3a",
   "metadata": {},
   "outputs": [],
   "source": [
    "from langchain.evaluation.qa import QAEvalChain"
   ]
  },
  {
   "cell_type": "code",
   "execution_count": 6,
   "id": "17f26340",
   "metadata": {
    "collapsed": true
   },
   "outputs": [
    {
     "ename": "NameError",
     "evalue": "name 'ChatOpenAI' is not defined",
     "output_type": "error",
     "traceback": [
      "\u001b[1;31m---------------------------------------------------------------------------\u001b[0m",
      "\u001b[1;31mNameError\u001b[0m                                 Traceback (most recent call last)",
      "Cell \u001b[1;32mIn[6], line 1\u001b[0m\n\u001b[1;32m----> 1\u001b[0m llm \u001b[38;5;241m=\u001b[39m \u001b[43mChatOpenAI\u001b[49m(temperature\u001b[38;5;241m=\u001b[39m\u001b[38;5;241m0\u001b[39m)\n\u001b[0;32m      2\u001b[0m eval_chain \u001b[38;5;241m=\u001b[39m QAEvalChain\u001b[38;5;241m.\u001b[39mfrom_llm(llm)\n",
      "\u001b[1;31mNameError\u001b[0m: name 'ChatOpenAI' is not defined"
     ]
    }
   ],
   "source": [
    "llm = ChatOpenAI(temperature=0)\n",
    "eval_chain = QAEvalChain.from_llm(llm)"
   ]
  },
  {
   "cell_type": "code",
   "execution_count": null,
   "id": "82b40cad",
   "metadata": {},
   "outputs": [],
   "source": [
    "graded_outputs = eval_chain.evaluate(examples, predictions)"
   ]
  },
  {
   "cell_type": "code",
   "execution_count": null,
   "id": "1563c367",
   "metadata": {},
   "outputs": [],
   "source": [
    "for i, eg in enumerate(examples):\n",
    "    print(f\"Example {i}:\")\n",
    "    print(\"Question: \" + predictions[i]['query'])\n",
    "    print(\"Real Answer: \" + predictions[i]['answer'])\n",
    "    print(\"Predicted Answer: \" + predictions[i]['result'])\n",
    "    print(\"Predicted Grade: \" + graded_outputs[i]['text'])\n",
    "    print()"
   ]
  }
 ],
 "metadata": {
  "kernelspec": {
   "display_name": "Python 3 (ipykernel)",
   "language": "python",
   "name": "python3"
  },
  "language_info": {
   "codemirror_mode": {
    "name": "ipython",
    "version": 3
   },
   "file_extension": ".py",
   "mimetype": "text/x-python",
   "name": "python",
   "nbconvert_exporter": "python",
   "pygments_lexer": "ipython3",
   "version": "3.10.9"
  }
 },
 "nbformat": 4,
 "nbformat_minor": 5
}
